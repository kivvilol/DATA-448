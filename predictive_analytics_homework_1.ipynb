{
 "cells": [
  {
   "cell_type": "code",
   "execution_count": 227,
   "id": "bd8fffbf",
   "metadata": {},
   "outputs": [
    {
     "data": {
      "text/html": [
       "<div>\n",
       "<style scoped>\n",
       "    .dataframe tbody tr th:only-of-type {\n",
       "        vertical-align: middle;\n",
       "    }\n",
       "\n",
       "    .dataframe tbody tr th {\n",
       "        vertical-align: top;\n",
       "    }\n",
       "\n",
       "    .dataframe thead th {\n",
       "        text-align: right;\n",
       "    }\n",
       "</style>\n",
       "<table border=\"1\" class=\"dataframe\">\n",
       "  <thead>\n",
       "    <tr style=\"text-align: right;\">\n",
       "      <th></th>\n",
       "      <th>trustLevel</th>\n",
       "      <th>totalScanTimeInSeconds</th>\n",
       "      <th>grandTotal</th>\n",
       "      <th>lineItemVoids</th>\n",
       "      <th>scansWithoutRegistration</th>\n",
       "      <th>quantityModifications</th>\n",
       "      <th>scannedLineItemsPerSecond</th>\n",
       "      <th>valuePerSecond</th>\n",
       "      <th>lineItemVoidsPerPosition</th>\n",
       "      <th>fraud</th>\n",
       "    </tr>\n",
       "  </thead>\n",
       "  <tbody>\n",
       "    <tr>\n",
       "      <th>0</th>\n",
       "      <td>5</td>\n",
       "      <td>1054</td>\n",
       "      <td>54.70</td>\n",
       "      <td>7</td>\n",
       "      <td>0</td>\n",
       "      <td>3</td>\n",
       "      <td>0.027514</td>\n",
       "      <td>0.051898</td>\n",
       "      <td>0.241379</td>\n",
       "      <td>0</td>\n",
       "    </tr>\n",
       "    <tr>\n",
       "      <th>1</th>\n",
       "      <td>3</td>\n",
       "      <td>108</td>\n",
       "      <td>27.36</td>\n",
       "      <td>5</td>\n",
       "      <td>2</td>\n",
       "      <td>4</td>\n",
       "      <td>0.129630</td>\n",
       "      <td>0.253333</td>\n",
       "      <td>0.357143</td>\n",
       "      <td>0</td>\n",
       "    </tr>\n",
       "    <tr>\n",
       "      <th>2</th>\n",
       "      <td>3</td>\n",
       "      <td>1516</td>\n",
       "      <td>62.16</td>\n",
       "      <td>3</td>\n",
       "      <td>10</td>\n",
       "      <td>5</td>\n",
       "      <td>0.008575</td>\n",
       "      <td>0.041003</td>\n",
       "      <td>0.230769</td>\n",
       "      <td>0</td>\n",
       "    </tr>\n",
       "    <tr>\n",
       "      <th>3</th>\n",
       "      <td>6</td>\n",
       "      <td>1791</td>\n",
       "      <td>92.31</td>\n",
       "      <td>8</td>\n",
       "      <td>4</td>\n",
       "      <td>4</td>\n",
       "      <td>0.016192</td>\n",
       "      <td>0.051541</td>\n",
       "      <td>0.275862</td>\n",
       "      <td>0</td>\n",
       "    </tr>\n",
       "    <tr>\n",
       "      <th>4</th>\n",
       "      <td>5</td>\n",
       "      <td>430</td>\n",
       "      <td>81.53</td>\n",
       "      <td>3</td>\n",
       "      <td>7</td>\n",
       "      <td>2</td>\n",
       "      <td>0.062791</td>\n",
       "      <td>0.189605</td>\n",
       "      <td>0.111111</td>\n",
       "      <td>0</td>\n",
       "    </tr>\n",
       "  </tbody>\n",
       "</table>\n",
       "</div>"
      ],
      "text/plain": [
       "   trustLevel  totalScanTimeInSeconds  grandTotal  lineItemVoids  \\\n",
       "0           5                    1054       54.70              7   \n",
       "1           3                     108       27.36              5   \n",
       "2           3                    1516       62.16              3   \n",
       "3           6                    1791       92.31              8   \n",
       "4           5                     430       81.53              3   \n",
       "\n",
       "   scansWithoutRegistration  quantityModifications  scannedLineItemsPerSecond  \\\n",
       "0                         0                      3                   0.027514   \n",
       "1                         2                      4                   0.129630   \n",
       "2                        10                      5                   0.008575   \n",
       "3                         4                      4                   0.016192   \n",
       "4                         7                      2                   0.062791   \n",
       "\n",
       "   valuePerSecond  lineItemVoidsPerPosition  fraud  \n",
       "0        0.051898                  0.241379      0  \n",
       "1        0.253333                  0.357143      0  \n",
       "2        0.041003                  0.230769      0  \n",
       "3        0.051541                  0.275862      0  \n",
       "4        0.189605                  0.111111      0  "
      ]
     },
     "execution_count": 227,
     "metadata": {},
     "output_type": "execute_result"
    }
   ],
   "source": [
    "# importing libraries\n",
    "import boto3\n",
    "import pandas as pd\n",
    "import numpy as np\n",
    "import matplotlib.pyplot as plt\n",
    "import seaborn as sns\n",
    "from sklearn.model_selection import train_test_split\n",
    "from imblearn.over_sampling import SMOTE\n",
    "from sklearn.metrics import precision_recall_curve, classification_report\n",
    "from sklearn.ensemble import RandomForestClassifier, AdaBoostClassifier\n",
    "from sklearn.tree import DecisionTreeClassifier\n",
    "\n",
    "# defining the bucket\n",
    "s3 = boto3.resource('s3')\n",
    "bucket_name = 'webster-data445-bucket'\n",
    "bucket = s3.Bucket(bucket_name)\n",
    "\n",
    "# defining the train csv file\n",
    "file_key = 'fraud_train.csv'\n",
    "\n",
    "bucket_object = bucket.Object(file_key)\n",
    "file_object = bucket_object.get()\n",
    "file_content_stream = file_object.get('Body')\n",
    "\n",
    "# reading the csv file\n",
    "train = pd.read_csv(file_content_stream, sep = '|')\n",
    "# dropping missing values\n",
    "train = train.dropna()\n",
    "train.head()"
   ]
  },
  {
   "cell_type": "code",
   "execution_count": 228,
   "id": "0729c5f7",
   "metadata": {},
   "outputs": [
    {
     "data": {
      "text/html": [
       "<div>\n",
       "<style scoped>\n",
       "    .dataframe tbody tr th:only-of-type {\n",
       "        vertical-align: middle;\n",
       "    }\n",
       "\n",
       "    .dataframe tbody tr th {\n",
       "        vertical-align: top;\n",
       "    }\n",
       "\n",
       "    .dataframe thead th {\n",
       "        text-align: right;\n",
       "    }\n",
       "</style>\n",
       "<table border=\"1\" class=\"dataframe\">\n",
       "  <thead>\n",
       "    <tr style=\"text-align: right;\">\n",
       "      <th></th>\n",
       "      <th>trustLevel</th>\n",
       "      <th>totalScanTimeInSeconds</th>\n",
       "      <th>grandTotal</th>\n",
       "      <th>lineItemVoids</th>\n",
       "      <th>scansWithoutRegistration</th>\n",
       "      <th>quantityModifications</th>\n",
       "      <th>scannedLineItemsPerSecond</th>\n",
       "      <th>valuePerSecond</th>\n",
       "      <th>lineItemVoidsPerPosition</th>\n",
       "    </tr>\n",
       "  </thead>\n",
       "  <tbody>\n",
       "    <tr>\n",
       "      <th>0</th>\n",
       "      <td>4</td>\n",
       "      <td>467</td>\n",
       "      <td>88.48</td>\n",
       "      <td>4</td>\n",
       "      <td>8</td>\n",
       "      <td>4</td>\n",
       "      <td>0.014989</td>\n",
       "      <td>0.189465</td>\n",
       "      <td>0.571429</td>\n",
       "    </tr>\n",
       "    <tr>\n",
       "      <th>1</th>\n",
       "      <td>3</td>\n",
       "      <td>1004</td>\n",
       "      <td>58.99</td>\n",
       "      <td>7</td>\n",
       "      <td>6</td>\n",
       "      <td>1</td>\n",
       "      <td>0.026892</td>\n",
       "      <td>0.058755</td>\n",
       "      <td>0.259259</td>\n",
       "    </tr>\n",
       "    <tr>\n",
       "      <th>2</th>\n",
       "      <td>1</td>\n",
       "      <td>162</td>\n",
       "      <td>14.00</td>\n",
       "      <td>4</td>\n",
       "      <td>5</td>\n",
       "      <td>4</td>\n",
       "      <td>0.006173</td>\n",
       "      <td>0.086420</td>\n",
       "      <td>4.000000</td>\n",
       "    </tr>\n",
       "    <tr>\n",
       "      <th>3</th>\n",
       "      <td>5</td>\n",
       "      <td>532</td>\n",
       "      <td>84.79</td>\n",
       "      <td>9</td>\n",
       "      <td>3</td>\n",
       "      <td>4</td>\n",
       "      <td>0.026316</td>\n",
       "      <td>0.159380</td>\n",
       "      <td>0.642857</td>\n",
       "    </tr>\n",
       "    <tr>\n",
       "      <th>4</th>\n",
       "      <td>5</td>\n",
       "      <td>890</td>\n",
       "      <td>42.16</td>\n",
       "      <td>4</td>\n",
       "      <td>0</td>\n",
       "      <td>0</td>\n",
       "      <td>0.021348</td>\n",
       "      <td>0.047371</td>\n",
       "      <td>0.210526</td>\n",
       "    </tr>\n",
       "  </tbody>\n",
       "</table>\n",
       "</div>"
      ],
      "text/plain": [
       "   trustLevel  totalScanTimeInSeconds  grandTotal  lineItemVoids  \\\n",
       "0           4                     467       88.48              4   \n",
       "1           3                    1004       58.99              7   \n",
       "2           1                     162       14.00              4   \n",
       "3           5                     532       84.79              9   \n",
       "4           5                     890       42.16              4   \n",
       "\n",
       "   scansWithoutRegistration  quantityModifications  scannedLineItemsPerSecond  \\\n",
       "0                         8                      4                   0.014989   \n",
       "1                         6                      1                   0.026892   \n",
       "2                         5                      4                   0.006173   \n",
       "3                         3                      4                   0.026316   \n",
       "4                         0                      0                   0.021348   \n",
       "\n",
       "   valuePerSecond  lineItemVoidsPerPosition  \n",
       "0        0.189465                  0.571429  \n",
       "1        0.058755                  0.259259  \n",
       "2        0.086420                  4.000000  \n",
       "3        0.159380                  0.642857  \n",
       "4        0.047371                  0.210526  "
      ]
     },
     "execution_count": 228,
     "metadata": {},
     "output_type": "execute_result"
    }
   ],
   "source": [
    "# defining the test csv file\n",
    "file_key = 'fraud_test.csv'\n",
    "\n",
    "bucket_object = bucket.Object(file_key)\n",
    "file_object = bucket_object.get()\n",
    "file_content_stream = file_object.get('Body')\n",
    "\n",
    "# reading the csv file\n",
    "test = pd.read_csv(file_content_stream, sep = '|')\n",
    "# dropping missing values\n",
    "test = test.dropna()\n",
    "test.head()"
   ]
  },
  {
   "cell_type": "code",
   "execution_count": 229,
   "id": "f7a34d63",
   "metadata": {},
   "outputs": [
    {
     "name": "stdout",
     "output_type": "stream",
     "text": [
      "Train: 1879 10\n",
      "Test: 498121 9\n"
     ]
    }
   ],
   "source": [
    "# checking number of rows and observations\n",
    "rows = len(train.axes[0])\n",
    "cols = len(train.axes[1])\n",
    "print('Train:', rows, cols)\n",
    "\n",
    "rows_test = len(test.axes[0])\n",
    "cols_test = len(test.axes[1])\n",
    "print('Test:', rows_test, cols_test)\n",
    "\n",
    "# Our train dataset has 1879 observations and 10 variables\n",
    "# Our test dataset has 498121 observations and 10 variables"
   ]
  },
  {
   "cell_type": "code",
   "execution_count": 230,
   "id": "0ad9641f",
   "metadata": {},
   "outputs": [
    {
     "data": {
      "text/plain": [
       "Text(0.5, 1.0, 'Distirbution of Trust Levels')"
      ]
     },
     "execution_count": 230,
     "metadata": {},
     "output_type": "execute_result"
    },
    {
     "data": {
      "image/png": "[encoded data removed]",
      "text/plain": [
       "<Figure size 360x360 with 1 Axes>"
      ]
     },
     "metadata": {
      "needs_background": "light"
     },
     "output_type": "display_data"
    }
   ],
   "source": [
    "# distribution plot of trust levels\n",
    "dist_trust = sns.displot(train['trustLevel'])\n",
    "plt.title('Distirbution of Trust Levels')\n",
    "\n",
    "## We can see that our trust levels are slightly right skewed"
   ]
  },
  {
   "cell_type": "code",
   "execution_count": 231,
   "id": "b393917b",
   "metadata": {},
   "outputs": [
    {
     "data": {
      "text/plain": [
       "<AxesSubplot:>"
      ]
     },
     "execution_count": 231,
     "metadata": {},
     "output_type": "execute_result"
    },
    {
     "data": {
      "image/png": "[encoded data removed]",
      "text/plain": [
       "<Figure size 432x288 with 2 Axes>"
      ]
     },
     "metadata": {
      "needs_background": "light"
     },
     "output_type": "display_data"
    }
   ],
   "source": [
    "corr = train.corr()\n",
    "mask = np.zeros_like(corr)\n",
    "mask[np.triu_indices_from(mask)] = True\n",
    "\n",
    "sns.heatmap(corr, mask = mask, square = True)\n",
    "\n",
    "# train.corr().fraud\n",
    "\n",
    "## We can see high correlations between fraud and trust level, totalScanTimeInSeconds, scansWithoutRegistration, lineItemVoids, and valuePerSecond.\n",
    "## I will use these to create my models"
   ]
  },
  {
   "cell_type": "code",
   "execution_count": 299,
   "id": "43d9f817",
   "metadata": {},
   "outputs": [],
   "source": [
    "X = train[['trustLevel', 'totalScanTimeInSeconds', 'scansWithoutRegistration', 'lineItemVoids', 'valuePerSecond']]\n",
    "Y = train['fraud']\n",
    "\n",
    "# splitting into training and testing\n",
    "X_train, X_test, Y_train, Y_test = train_test_split(X, Y, test_size = 0.2, stratify = Y)"
   ]
  },
  {
   "cell_type": "code",
   "execution_count": 300,
   "id": "0571de54",
   "metadata": {},
   "outputs": [],
   "source": [
    "# building the random forest\n",
    "RF1 = RandomForestClassifier(n_estimators = 500, max_depth = 3).fit(X_train, Y_train)\n",
    "\n",
    "# predicting on test\n",
    "RF_pred = RF1.predict_proba(X_test)[:, 1]"
   ]
  },
  {
   "cell_type": "code",
   "execution_count": 301,
   "id": "3949944d",
   "metadata": {},
   "outputs": [
    {
     "data": {
      "text/plain": [
       "<function matplotlib.pyplot.show(close=None, block=None)>"
      ]
     },
     "execution_count": 301,
     "metadata": {},
     "output_type": "execute_result"
    },
    {
     "data": {
      "image/png": "[encoded data removed]",
      "text/plain": [
       "<Figure size 720x576 with 1 Axes>"
      ]
     },
     "metadata": {
      "needs_background": "light"
     },
     "output_type": "display_data"
    }
   ],
   "source": [
    "# computing ROC curve\n",
    "precision, recall, threshold = precision_recall_curve(Y_test, RF_pred)\n",
    "\n",
    "# creating a dataframe with unpacked roc values\n",
    "cutoffs = pd.DataFrame({'Precision' : precision[:-1], 'Recall' : recall[:-1], 'Cutoff' : threshold}) ## precision and recall are +1, so have to remove the last observation\n",
    "\n",
    "# visualizing\n",
    "plt.figure(figsize = (10, 8))\n",
    "plt.plot(precision, recall)\n",
    "plt.xlabel('Precision')\n",
    "plt.ylabel('Recall')\n",
    "plt.grid()\n",
    "plt.show"
   ]
  },
  {
   "cell_type": "code",
   "execution_count": 302,
   "id": "b327cee9",
   "metadata": {},
   "outputs": [
    {
     "name": "stdout",
     "output_type": "stream",
     "text": [
      "              precision    recall  f1-score   support\n",
      "\n",
      "           0       0.97      0.93      0.95       355\n",
      "           1       0.33      0.57      0.42        21\n",
      "\n",
      "    accuracy                           0.91       376\n",
      "   macro avg       0.65      0.75      0.69       376\n",
      "weighted avg       0.94      0.91      0.92       376\n",
      "\n"
     ]
    }
   ],
   "source": [
    "# finding the optimal cutoff\n",
    "cutoffs['Recall_minus_1'] = cutoffs['Recall'] - 1\n",
    "\n",
    "# finding euclidean distance\n",
    "cutoffs['Euclidian_dist'] = np.sqrt(cutoffs['Precision']**2 + cutoffs['Recall_minus_1']**2)\n",
    "cutoffs = cutoffs.sort_values(by = 'Euclidian_dist').reset_index(drop = True)\n",
    "\n",
    "# changing likelihoods to labels\n",
    "RF_pred = np.where(RF_pred < cutoffs['Euclidian_dist'][0], 0, 1)\n",
    "\n",
    "# printing classification report\n",
    "print(classification_report(Y_test, RF_pred))"
   ]
  },
  {
   "cell_type": "code",
   "execution_count": 303,
   "id": "a8470c9c",
   "metadata": {},
   "outputs": [],
   "source": [
    "# building the ada boost classifier\n",
    "AB1 = AdaBoostClassifier(base_estimator = DecisionTreeClassifier(max_depth = 3), n_estimators = 500, learning_rate = 0.01).fit(X_train, Y_train)\n",
    "\n",
    "# predicting on test\n",
    "AB_pred = AB1.predict_proba(X_test)[:, 1]"
   ]
  },
  {
   "cell_type": "code",
   "execution_count": 304,
   "id": "33adc9c3",
   "metadata": {},
   "outputs": [
    {
     "data": {
      "text/plain": [
       "<function matplotlib.pyplot.show(close=None, block=None)>"
      ]
     },
     "execution_count": 304,
     "metadata": {},
     "output_type": "execute_result"
    },
    {
     "data": {
      "image/png": "[encoded data removed]",
      "text/plain": [
       "<Figure size 720x576 with 1 Axes>"
      ]
     },
     "metadata": {
      "needs_background": "light"
     },
     "output_type": "display_data"
    }
   ],
   "source": [
    "# computing ROC curve\n",
    "precision2, recall2, threshold2 = precision_recall_curve(Y_test, AB_pred)\n",
    "\n",
    "# creating a dataframe with unpacked roc values\n",
    "cutoffs2 = pd.DataFrame({'Precision' : precision2[:-1], 'Recall' : recall2[:-1], 'Cutoff' : threshold2})\n",
    "\n",
    "# visualizing\n",
    "plt.figure(figsize = (10, 8))\n",
    "plt.plot(precision, recall)\n",
    "plt.xlabel('Precision')\n",
    "plt.ylabel('Recall')\n",
    "plt.grid()\n",
    "plt.show"
   ]
  },
  {
   "cell_type": "code",
   "execution_count": 305,
   "id": "96c9b7e5",
   "metadata": {},
   "outputs": [
    {
     "name": "stdout",
     "output_type": "stream",
     "text": [
      "              precision    recall  f1-score   support\n",
      "\n",
      "           0       1.00      0.66      0.80       355\n",
      "           1       0.14      0.95      0.25        21\n",
      "\n",
      "    accuracy                           0.68       376\n",
      "   macro avg       0.57      0.81      0.52       376\n",
      "weighted avg       0.95      0.68      0.77       376\n",
      "\n"
     ]
    }
   ],
   "source": [
    "# finding the optimal cutoff\n",
    "cutoffs2['Recall_minus_1'] = cutoffs2['Recall'] - 1\n",
    "\n",
    "# finding euclidean distance\n",
    "cutoffs2['Euclidian_dist'] = np.sqrt(cutoffs2['Precision']**2 + cutoffs2['Recall_minus_1']**2)\n",
    "cutoffs2 = cutoffs2.sort_values(by = 'Euclidian_dist').reset_index(drop = True)\n",
    "\n",
    "# changing likelihoods to labels\n",
    "AB_pred = np.where(AB_pred < cutoffs2['Euclidian_dist'][0], 0, 1)\n",
    "\n",
    "# printing classification report\n",
    "print(classification_report(Y_test, AB_pred))"
   ]
  },
  {
   "cell_type": "code",
   "execution_count": 306,
   "id": "c2dd515c",
   "metadata": {},
   "outputs": [],
   "source": [
    "## Based on the results, I would choose the Random Forest model. This is because it only does slightly worse at predicting '0', but does a much better job\n",
    "## at prediction '1.'"
   ]
  }
 ],
 "metadata": {
  "kernelspec": {
   "display_name": "Python 3.10.6 64-bit (windows store)",
   "language": "python",
   "name": "python3"
  },
  "language_info": {
   "codemirror_mode": {
    "name": "ipython",
    "version": 3
   },
   "file_extension": ".py",
   "mimetype": "text/x-python",
   "name": "python",
   "nbconvert_exporter": "python",
   "pygments_lexer": "ipython3",
   "version": "3.10.6"
  },
  "vscode": {
   "interpreter": {
    "hash": "500e52aad05807db5c99823d35098ccd407a7d742e3573586e37bfae8d06997e"
   }
  }
 },
 "nbformat": 4,
 "nbformat_minor": 5
}
