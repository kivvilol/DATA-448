{
 "cells": [
  {
   "cell_type": "code",
   "execution_count": 245,
   "id": "dc2b5f30",
   "metadata": {},
   "outputs": [
    {
     "data": {
      "text/html": [
       "<div>\n",
       "<style scoped>\n",
       "    .dataframe tbody tr th:only-of-type {\n",
       "        vertical-align: middle;\n",
       "    }\n",
       "\n",
       "    .dataframe tbody tr th {\n",
       "        vertical-align: top;\n",
       "    }\n",
       "\n",
       "    .dataframe thead th {\n",
       "        text-align: right;\n",
       "    }\n",
       "</style>\n",
       "<table border=\"1\" class=\"dataframe\">\n",
       "  <thead>\n",
       "    <tr style=\"text-align: right;\">\n",
       "      <th></th>\n",
       "      <th>trustLevel</th>\n",
       "      <th>totalScanTimeInSeconds</th>\n",
       "      <th>grandTotal</th>\n",
       "      <th>lineItemVoids</th>\n",
       "      <th>scansWithoutRegistration</th>\n",
       "      <th>quantityModifications</th>\n",
       "      <th>scannedLineItemsPerSecond</th>\n",
       "      <th>valuePerSecond</th>\n",
       "      <th>lineItemVoidsPerPosition</th>\n",
       "      <th>fraud</th>\n",
       "    </tr>\n",
       "  </thead>\n",
       "  <tbody>\n",
       "    <tr>\n",
       "      <th>0</th>\n",
       "      <td>5</td>\n",
       "      <td>1054</td>\n",
       "      <td>54.70</td>\n",
       "      <td>7</td>\n",
       "      <td>0</td>\n",
       "      <td>3</td>\n",
       "      <td>0.027514</td>\n",
       "      <td>0.051898</td>\n",
       "      <td>0.241379</td>\n",
       "      <td>0</td>\n",
       "    </tr>\n",
       "    <tr>\n",
       "      <th>1</th>\n",
       "      <td>3</td>\n",
       "      <td>108</td>\n",
       "      <td>27.36</td>\n",
       "      <td>5</td>\n",
       "      <td>2</td>\n",
       "      <td>4</td>\n",
       "      <td>0.129630</td>\n",
       "      <td>0.253333</td>\n",
       "      <td>0.357143</td>\n",
       "      <td>0</td>\n",
       "    </tr>\n",
       "    <tr>\n",
       "      <th>2</th>\n",
       "      <td>3</td>\n",
       "      <td>1516</td>\n",
       "      <td>62.16</td>\n",
       "      <td>3</td>\n",
       "      <td>10</td>\n",
       "      <td>5</td>\n",
       "      <td>0.008575</td>\n",
       "      <td>0.041003</td>\n",
       "      <td>0.230769</td>\n",
       "      <td>0</td>\n",
       "    </tr>\n",
       "    <tr>\n",
       "      <th>3</th>\n",
       "      <td>6</td>\n",
       "      <td>1791</td>\n",
       "      <td>92.31</td>\n",
       "      <td>8</td>\n",
       "      <td>4</td>\n",
       "      <td>4</td>\n",
       "      <td>0.016192</td>\n",
       "      <td>0.051541</td>\n",
       "      <td>0.275862</td>\n",
       "      <td>0</td>\n",
       "    </tr>\n",
       "    <tr>\n",
       "      <th>4</th>\n",
       "      <td>5</td>\n",
       "      <td>430</td>\n",
       "      <td>81.53</td>\n",
       "      <td>3</td>\n",
       "      <td>7</td>\n",
       "      <td>2</td>\n",
       "      <td>0.062791</td>\n",
       "      <td>0.189605</td>\n",
       "      <td>0.111111</td>\n",
       "      <td>0</td>\n",
       "    </tr>\n",
       "  </tbody>\n",
       "</table>\n",
       "</div>"
      ],
      "text/plain": [
       "   trustLevel  totalScanTimeInSeconds  grandTotal  lineItemVoids  \\\n",
       "0           5                    1054       54.70              7   \n",
       "1           3                     108       27.36              5   \n",
       "2           3                    1516       62.16              3   \n",
       "3           6                    1791       92.31              8   \n",
       "4           5                     430       81.53              3   \n",
       "\n",
       "   scansWithoutRegistration  quantityModifications  scannedLineItemsPerSecond  \\\n",
       "0                         0                      3                   0.027514   \n",
       "1                         2                      4                   0.129630   \n",
       "2                        10                      5                   0.008575   \n",
       "3                         4                      4                   0.016192   \n",
       "4                         7                      2                   0.062791   \n",
       "\n",
       "   valuePerSecond  lineItemVoidsPerPosition  fraud  \n",
       "0        0.051898                  0.241379      0  \n",
       "1        0.253333                  0.357143      0  \n",
       "2        0.041003                  0.230769      0  \n",
       "3        0.051541                  0.275862      0  \n",
       "4        0.189605                  0.111111      0  "
      ]
     },
     "execution_count": 245,
     "metadata": {},
     "output_type": "execute_result"
    }
   ],
   "source": [
    "# importing libraries\n",
    "import boto3\n",
    "import pandas as pd; pd.set_option('display.max_columns', 50)\n",
    "import numpy as np\n",
    "import matplotlib.pyplot as plt\n",
    "from sklearn.model_selection import train_test_split, GridSearchCV, RandomizedSearchCV\n",
    "from sklearn.tree import DecisionTreeClassifier\n",
    "from sklearn.ensemble import AdaBoostClassifier, RandomForestClassifier\n",
    "from sklearn.linear_model import LogisticRegression\n",
    "from sklearn.metrics import classification_report, make_scorer, confusion_matrix\n",
    "import precision_recall_cutoff\n",
    "from sklearn.svm import SVC\n",
    "from sklearn.preprocessing import MinMaxScaler\n",
    "from cost_function import cost_function_cutoff\n",
    "\n",
    "# defining the bucket\n",
    "s3 = boto3.resource('s3')\n",
    "bucket_name = 'webster-data445-bucket'\n",
    "bucket = s3.Bucket(bucket_name)\n",
    "\n",
    "# defining the csv file\n",
    "file_key = 'fraud_train.csv'\n",
    "\n",
    "bucket_object = bucket.Object(file_key)\n",
    "file_object = bucket_object.get()\n",
    "file_content_stream = file_object.get('Body')\n",
    "\n",
    "# reading the csv file\n",
    "train = pd.read_csv(file_content_stream, sep = '|')\n",
    "# dropping missing values\n",
    "train = train.dropna()\n",
    "train.head()"
   ]
  },
  {
   "cell_type": "code",
   "execution_count": 246,
   "id": "c2c99a5d",
   "metadata": {},
   "outputs": [
    {
     "data": {
      "text/html": [
       "<div>\n",
       "<style scoped>\n",
       "    .dataframe tbody tr th:only-of-type {\n",
       "        vertical-align: middle;\n",
       "    }\n",
       "\n",
       "    .dataframe tbody tr th {\n",
       "        vertical-align: top;\n",
       "    }\n",
       "\n",
       "    .dataframe thead th {\n",
       "        text-align: right;\n",
       "    }\n",
       "</style>\n",
       "<table border=\"1\" class=\"dataframe\">\n",
       "  <thead>\n",
       "    <tr style=\"text-align: right;\">\n",
       "      <th></th>\n",
       "      <th>trustLevel</th>\n",
       "      <th>totalScanTimeInSeconds</th>\n",
       "      <th>grandTotal</th>\n",
       "      <th>lineItemVoids</th>\n",
       "      <th>scansWithoutRegistration</th>\n",
       "      <th>quantityModifications</th>\n",
       "      <th>scannedLineItemsPerSecond</th>\n",
       "      <th>valuePerSecond</th>\n",
       "      <th>lineItemVoidsPerPosition</th>\n",
       "    </tr>\n",
       "  </thead>\n",
       "  <tbody>\n",
       "    <tr>\n",
       "      <th>0</th>\n",
       "      <td>4</td>\n",
       "      <td>467</td>\n",
       "      <td>88.48</td>\n",
       "      <td>4</td>\n",
       "      <td>8</td>\n",
       "      <td>4</td>\n",
       "      <td>0.014989</td>\n",
       "      <td>0.189465</td>\n",
       "      <td>0.571429</td>\n",
       "    </tr>\n",
       "    <tr>\n",
       "      <th>1</th>\n",
       "      <td>3</td>\n",
       "      <td>1004</td>\n",
       "      <td>58.99</td>\n",
       "      <td>7</td>\n",
       "      <td>6</td>\n",
       "      <td>1</td>\n",
       "      <td>0.026892</td>\n",
       "      <td>0.058755</td>\n",
       "      <td>0.259259</td>\n",
       "    </tr>\n",
       "    <tr>\n",
       "      <th>2</th>\n",
       "      <td>1</td>\n",
       "      <td>162</td>\n",
       "      <td>14.00</td>\n",
       "      <td>4</td>\n",
       "      <td>5</td>\n",
       "      <td>4</td>\n",
       "      <td>0.006173</td>\n",
       "      <td>0.086420</td>\n",
       "      <td>4.000000</td>\n",
       "    </tr>\n",
       "    <tr>\n",
       "      <th>3</th>\n",
       "      <td>5</td>\n",
       "      <td>532</td>\n",
       "      <td>84.79</td>\n",
       "      <td>9</td>\n",
       "      <td>3</td>\n",
       "      <td>4</td>\n",
       "      <td>0.026316</td>\n",
       "      <td>0.159380</td>\n",
       "      <td>0.642857</td>\n",
       "    </tr>\n",
       "    <tr>\n",
       "      <th>4</th>\n",
       "      <td>5</td>\n",
       "      <td>890</td>\n",
       "      <td>42.16</td>\n",
       "      <td>4</td>\n",
       "      <td>0</td>\n",
       "      <td>0</td>\n",
       "      <td>0.021348</td>\n",
       "      <td>0.047371</td>\n",
       "      <td>0.210526</td>\n",
       "    </tr>\n",
       "  </tbody>\n",
       "</table>\n",
       "</div>"
      ],
      "text/plain": [
       "   trustLevel  totalScanTimeInSeconds  grandTotal  lineItemVoids  \\\n",
       "0           4                     467       88.48              4   \n",
       "1           3                    1004       58.99              7   \n",
       "2           1                     162       14.00              4   \n",
       "3           5                     532       84.79              9   \n",
       "4           5                     890       42.16              4   \n",
       "\n",
       "   scansWithoutRegistration  quantityModifications  scannedLineItemsPerSecond  \\\n",
       "0                         8                      4                   0.014989   \n",
       "1                         6                      1                   0.026892   \n",
       "2                         5                      4                   0.006173   \n",
       "3                         3                      4                   0.026316   \n",
       "4                         0                      0                   0.021348   \n",
       "\n",
       "   valuePerSecond  lineItemVoidsPerPosition  \n",
       "0        0.189465                  0.571429  \n",
       "1        0.058755                  0.259259  \n",
       "2        0.086420                  4.000000  \n",
       "3        0.159380                  0.642857  \n",
       "4        0.047371                  0.210526  "
      ]
     },
     "execution_count": 246,
     "metadata": {},
     "output_type": "execute_result"
    }
   ],
   "source": [
    "# defining the csv file\n",
    "file_key = 'fraud_test.csv'\n",
    "\n",
    "bucket_object = bucket.Object(file_key)\n",
    "file_object = bucket_object.get()\n",
    "file_content_stream = file_object.get('Body')\n",
    "\n",
    "# reading the csv file\n",
    "test = pd.read_csv(file_content_stream, sep = '|')\n",
    "# dropping missing values\n",
    "test = test.dropna()\n",
    "test.head()"
   ]
  },
  {
   "cell_type": "code",
   "execution_count": 247,
   "id": "9c0bd03b",
   "metadata": {},
   "outputs": [],
   "source": [
    "## Interactions that were engineered in previous homework assignments\n",
    "\n",
    "# feature 1\n",
    "train['total_per_trust_level'] = train['grandTotal'] / train['trustLevel']\n",
    "test['total_per_trust_level'] = test['grandTotal'] / test['trustLevel']\n",
    "\n",
    "# feature 2\n",
    "train['interaction_trust_voids'] = train['trustLevel'] * train['lineItemVoids']\n",
    "test['interaction_trust_voids'] = test['trustLevel'] * test['lineItemVoids']\n",
    "\n",
    "# feature 3\n",
    "train['interaction_voids_without_registration'] = train['scansWithoutRegistration'] * train['lineItemVoids']\n",
    "test['interaction_voids_without_registration'] = test['scansWithoutRegistration'] * test['lineItemVoids']\n",
    "\n",
    "# feature 4\n",
    "train['interaction_quantityM_Time'] = train['quantityModifications'] * train['totalScanTimeInSeconds']\n",
    "test['interaction_quantityM_Time'] = test['quantityModifications'] * test['totalScanTimeInSeconds']\n",
    "\n",
    "# feature 5\n",
    "train['interaction_5'] = np.where((train['trustLevel'] <= 1.5) & (train['total_per_trust_level'] <= 49.573) & (train['trustLevel'] <= 2.5), 1, 0)\n",
    "test['interaction_5'] = np.where((test['trustLevel'] <= 1.5) & (test['total_per_trust_level'] <= 49.573) & (test['trustLevel'] <= 2.5), 1, 0)\n",
    "\n",
    "# feature 6\n",
    "train['interaction_quantity_voids'] = train['quantityModifications'] * train['lineItemVoids']\n",
    "test['interaction_quantity_voids'] = test['quantityModifications'] * test['lineItemVoids']\n",
    "\n",
    "# feature 7\n",
    "train['interaction_value_voids'] = train['valuePerSecond'] * train['lineItemVoids']\n",
    "test['interaction_value_voids'] = test['valuePerSecond'] * test['lineItemVoids']\n",
    "\n",
    "# feature 8\n",
    "train['interaction_8'] = train['trustLevel'] * train['scannedLineItemsPerSecond']\n",
    "test['interaction_8'] = test['trustLevel'] * test['scannedLineItemsPerSecond']\n",
    "\n",
    "# feature 9\n",
    "train['interaction_9'] = train['scannedLineItemsPerSecond'] * train['lineItemVoidsPerPosition']\n",
    "test['interaction_9'] = test['scannedLineItemsPerSecond'] * test['lineItemVoidsPerPosition']\n",
    "\n",
    "# feature 10\n",
    "train['interaction_10'] = train['lineItemVoidsPerPosition'] * train['trustLevel']\n",
    "test['interaction_10'] = test['lineItemVoidsPerPosition'] * test['trustLevel']\n",
    "\n",
    "# feature 11\n",
    "train['interaction_11'] = np.where((train['trustLevel'] <= 1.5) & (train['interaction_8'] <= 0.012) & (train['totalScanTimeInSeconds'] <= 995.0), 1, 0)\n",
    "test['interaction_11'] = np.where((test['trustLevel'] <= 1.5) & (test['interaction_8'] <= 0.012) & (test['totalScanTimeInSeconds'] <= 995.0), 1, 0)"
   ]
  },
  {
   "cell_type": "markdown",
   "id": "6259f414",
   "metadata": {},
   "source": [
    "## Data Splitting"
   ]
  },
  {
   "cell_type": "code",
   "execution_count": 248,
   "id": "379b2d9a",
   "metadata": {},
   "outputs": [],
   "source": [
    "# defining x and y\n",
    "X = train[['total_per_trust_level', 'interaction_10', 'trustLevel', 'interaction_8', 'scannedLineItemsPerSecond']]\n",
    "Y = train['fraud']\n",
    "\n",
    "# splitting the data\n",
    "X_train, X_test, Y_train, Y_test = train_test_split(X, Y, test_size = 0.2, stratify = Y)"
   ]
  },
  {
   "cell_type": "code",
   "execution_count": 249,
   "id": "8014e890",
   "metadata": {},
   "outputs": [],
   "source": [
    "# defining x and y with 6 variables\n",
    "X2 = train[['total_per_trust_level', 'interaction_10', 'trustLevel', 'interaction_8', 'scannedLineItemsPerSecond', 'interaction_5']]\n",
    "\n",
    "# splitting the data\n",
    "X_train2, X_test2, Y_train2, Y_test2 = train_test_split(X2, Y, test_size = 0.2, stratify = Y)"
   ]
  },
  {
   "cell_type": "code",
   "execution_count": 250,
   "id": "b7ed97da",
   "metadata": {},
   "outputs": [],
   "source": [
    "# defining x and y with 7 variables\n",
    "X3 = train[['total_per_trust_level', 'interaction_10', 'trustLevel', 'interaction_8', 'scannedLineItemsPerSecond', 'interaction_5']]\n",
    "\n",
    "# splitting the data\n",
    "X_train3, X_test3, Y_train3, Y_test3 = train_test_split(X3, Y, test_size = 0.2, stratify = Y)"
   ]
  },
  {
   "cell_type": "markdown",
   "id": "9da69107",
   "metadata": {},
   "source": [
    "## Random Forest\n"
   ]
  },
  {
   "cell_type": "code",
   "execution_count": 172,
   "id": "7ddc8d83",
   "metadata": {},
   "outputs": [
    {
     "data": {
      "text/plain": [
       "RandomForestClassifier(max_depth=7, min_samples_leaf=7, min_samples_split=15,\n",
       "                       n_estimators=300)"
      ]
     },
     "execution_count": 172,
     "metadata": {},
     "output_type": "execute_result"
    }
   ],
   "source": [
    "# defining parameter grid\n",
    "RF_param_grid = {'n_estimators': [100, 300, 500],\n",
    "                 'min_samples_split': [10, 15],\n",
    "                 'min_samples_leaf': [5, 7],\n",
    "                 'max_depth' : [3, 5, 7]}\n",
    "\n",
    "# defining customized scoring function\n",
    "my_score_function = make_scorer(cost_function, greater_is_better = True, needs_proba = True)\n",
    "\n",
    "# performing grid search with 5 variables\n",
    "RF_grid_search = GridSearchCV(RandomForestClassifier(), RF_param_grid, cv = 3, scoring = 'f1', \n",
    "                              n_jobs = -1).fit(X_train, Y_train)\n",
    "\n",
    "# defining best parameters\n",
    "RF_best = RF_grid_search.best_estimator_\n",
    "RF_best"
   ]
  },
  {
   "cell_type": "code",
   "execution_count": 224,
   "id": "33444610",
   "metadata": {},
   "outputs": [],
   "source": [
    "# creating best random forest model\n",
    "RF_md = RandomForestClassifier(max_depth = 7, min_samples_leaf = 7, min_samples_split = 15, n_estimators = 300).fit(X_train, Y_train)\n",
    "\n",
    "# predicting on test\n",
    "RF_test_pred = RF_md.predict_proba(X_test)[:, 1]\n",
    "\n",
    "# identifying the optimal cutoff values\n",
    "opt_cutoff = cost_function_cutoff(Y_test, RF_test_pred)\n",
    "\n",
    "# changing likelihoods to labels\n",
    "RF_label = np.where(RF_test_pred < opt_cutoff, 0, 1)\n",
    "\n",
    "# computing confusion matrix\n",
    "RF_conf = confusion_matrix(Y_test, RF_label)"
   ]
  },
  {
   "cell_type": "code",
   "execution_count": 226,
   "id": "5c76fae5",
   "metadata": {},
   "outputs": [
    {
     "name": "stdout",
     "output_type": "stream",
     "text": [
      "[[352   3]\n",
      " [ 13   8]]\n",
      "The cost of the RF model is: -300\n"
     ]
    }
   ],
   "source": [
    "# computing and printing cost of random forest with 5 variables\n",
    "print(RF_conf)\n",
    "RF_cost = -25*RF_conf[1, 0] - 5*RF_conf[0, 1] + 5*RF_conf[1, 1]\n",
    "print('The cost of the RF model is:', RF_cost)"
   ]
  },
  {
   "cell_type": "code",
   "execution_count": 188,
   "id": "6b6e357f",
   "metadata": {},
   "outputs": [
    {
     "data": {
      "text/plain": [
       "RandomForestClassifier(max_depth=7, min_samples_leaf=5, min_samples_split=10)"
      ]
     },
     "execution_count": 188,
     "metadata": {},
     "output_type": "execute_result"
    }
   ],
   "source": [
    "# performing grid search with 5 variables\n",
    "RF_grid_search2 = GridSearchCV(RandomForestClassifier(), RF_param_grid, cv = 3, scoring = 'f1', \n",
    "                              n_jobs = -1).fit(X_train2, Y_train2)\n",
    "\n",
    "# defining best parameters\n",
    "RF_best2 = RF_grid_search2.best_estimator_\n",
    "RF_best2"
   ]
  },
  {
   "cell_type": "code",
   "execution_count": 191,
   "id": "3c0e49cb",
   "metadata": {},
   "outputs": [],
   "source": [
    "# creating best random forest model\n",
    "RF_md2 = RandomForestClassifier(max_depth = 7, min_samples_leaf = 5, min_samples_split = 10).fit(X_train2, Y_train2)\n",
    "\n",
    "# predicting on test\n",
    "RF_test_pred2 = RF_md2.predict_proba(X_test2)[:, 1]\n",
    "\n",
    "# identifying the optimal cutoff values\n",
    "opt_cutoff2 = cost_function_cutoff(Y_test2, RF_test_pred2)\n",
    "\n",
    "# changing likelihoods to labels\n",
    "RF_label2 = np.where(RF_test_pred2 < opt_cutoff2, 0, 1)"
   ]
  },
  {
   "cell_type": "code",
   "execution_count": 227,
   "id": "4eec0214",
   "metadata": {},
   "outputs": [
    {
     "name": "stdout",
     "output_type": "stream",
     "text": [
      "[[348   7]\n",
      " [ 10  11]]\n",
      "The cost of the RF model is: -230\n"
     ]
    }
   ],
   "source": [
    "# computing confusion matrix\n",
    "RF_conf2 = confusion_matrix(Y_test2, RF_label2)\n",
    "\n",
    "# computing and printing cost of random forest with 5 variables\n",
    "print(RF_conf2)\n",
    "RF_cost2 = -25*RF_conf2[1, 0] - 5*RF_conf2[0, 1] + 5*RF_conf2[1, 1]\n",
    "print('The cost of the RF model is:', RF_cost2)"
   ]
  },
  {
   "cell_type": "code",
   "execution_count": 198,
   "id": "78588911",
   "metadata": {},
   "outputs": [
    {
     "data": {
      "text/plain": [
       "RandomForestClassifier(max_depth=7, min_samples_leaf=7, min_samples_split=10)"
      ]
     },
     "execution_count": 198,
     "metadata": {},
     "output_type": "execute_result"
    }
   ],
   "source": [
    "# performing grid search with 5 variables\n",
    "RF_grid_search3 = GridSearchCV(RandomForestClassifier(), RF_param_grid, cv = 3, scoring = 'f1', \n",
    "                              n_jobs = -1).fit(X_train3, Y_train3)\n",
    "\n",
    "# defining best parameters\n",
    "RF_best3 = RF_grid_search3.best_estimator_\n",
    "RF_best3"
   ]
  },
  {
   "cell_type": "code",
   "execution_count": 201,
   "id": "d969c408",
   "metadata": {},
   "outputs": [],
   "source": [
    "# creating best random forest model\n",
    "RF_md3 = RandomForestClassifier(max_depth = 7, min_samples_leaf = 7, min_samples_split = 10).fit(X_train3, Y_train3)\n",
    "\n",
    "# predicting on test\n",
    "RF_test_pred3 = RF_md3.predict_proba(X_test3)[:, 1]\n",
    "\n",
    "# identifying the optimal cutoff values\n",
    "opt_cutoff3 = cost_function_cutoff(Y_test3, RF_test_pred3)\n",
    "\n",
    "# changing likelihoods to labels\n",
    "RF_label3 = np.where(RF_test_pred3 < opt_cutoff3, 0, 1)"
   ]
  },
  {
   "cell_type": "code",
   "execution_count": 228,
   "id": "d46a0b47",
   "metadata": {},
   "outputs": [
    {
     "name": "stdout",
     "output_type": "stream",
     "text": [
      "[[350   5]\n",
      " [ 13   8]]\n",
      "The cost of the RF model is: -310\n"
     ]
    }
   ],
   "source": [
    "# computing confusion matrix\n",
    "RF_conf3 = confusion_matrix(Y_test3, RF_label3)\n",
    "\n",
    "# computing and printing cost of random forest with 5 variables\n",
    "print(RF_conf3)\n",
    "RF_cost3 = -25*RF_conf3[1, 0] - 5*RF_conf3[0, 1] + 5*RF_conf3[1, 1]\n",
    "print('The cost of the RF model is:', RF_cost3)"
   ]
  },
  {
   "cell_type": "markdown",
   "id": "5c1c563f",
   "metadata": {},
   "source": [
    "#### The best random forest model is the one with 6 input variables"
   ]
  },
  {
   "cell_type": "code",
   "execution_count": null,
   "id": "ca3cd636",
   "metadata": {},
   "outputs": [],
   "source": []
  },
  {
   "cell_type": "markdown",
   "id": "dbc5af78",
   "metadata": {},
   "source": [
    "## Ada Boost"
   ]
  },
  {
   "cell_type": "code",
   "execution_count": 203,
   "id": "61a15208",
   "metadata": {},
   "outputs": [
    {
     "data": {
      "text/plain": [
       "AdaBoostClassifier(base_estimator=DecisionTreeClassifier(max_depth=5,\n",
       "                                                         min_samples_leaf=5,\n",
       "                                                         min_samples_split=15),\n",
       "                   learning_rate=0.001, n_estimators=100)"
      ]
     },
     "execution_count": 203,
     "metadata": {},
     "output_type": "execute_result"
    }
   ],
   "source": [
    "# defining parameter grid\n",
    "Ada_param_grid = {'n_estimators': [100, 300, 500],\n",
    "                  'base_estimator__min_samples_split': [10, 15],\n",
    "                  'base_estimator__min_samples_leaf': [5, 7],\n",
    "                  'base_estimator__max_depth': [3, 5, 7],\n",
    "                  'learning_rate': [0.001, 0.01, 0.1]}\n",
    "\n",
    "# running grid search with 5 variables\n",
    "Ada_grid_search = GridSearchCV(AdaBoostClassifier(base_estimator = DecisionTreeClassifier()), Ada_param_grid, cv = 3, scoring = 'f1', n_jobs = -1).fit(X_train, Y_train)\n",
    "\n",
    "# extracting best parameters\n",
    "Ada_best = Ada_grid_search.best_estimator_\n",
    "Ada_best"
   ]
  },
  {
   "cell_type": "code",
   "execution_count": 205,
   "id": "ce613239",
   "metadata": {},
   "outputs": [],
   "source": [
    "# building ada boost model\n",
    "Ada_md = AdaBoostClassifier(base_estimator = DecisionTreeClassifier(min_samples_split = 15, min_samples_leaf = 5, max_depth = 5), n_estimators = 100, learning_rate = 0.001).fit(X_train, Y_train)\n",
    "\n",
    "# predicting on test\n",
    "Ada_test_pred = Ada_md.predict_proba(X_test)[:, 1]\n",
    "\n",
    "# identifying the optimal cutoff\n",
    "opt_cutoff = cost_function_cutoff(Y_test, Ada_test_pred)\n",
    "\n",
    "# changing to labels\n",
    "Ada_label = np.where(Ada_test_pred < opt_cutoff, 0, 1)"
   ]
  },
  {
   "cell_type": "code",
   "execution_count": 229,
   "id": "68f82362",
   "metadata": {},
   "outputs": [
    {
     "name": "stdout",
     "output_type": "stream",
     "text": [
      "[[347   8]\n",
      " [  8  13]]\n",
      "The cost of the Ada model is: -175\n"
     ]
    }
   ],
   "source": [
    "# computing confusion matrix\n",
    "Ada_conf = confusion_matrix(Y_test, Ada_label)\n",
    "\n",
    "# computing and printing cost of random forest with 5 variables\n",
    "print(Ada_conf)\n",
    "Ada_cost = -25*Ada_conf[1, 0] - 5*Ada_conf[0, 1] + 5*Ada_conf[1, 1]\n",
    "print('The cost of the Ada model is:', Ada_cost)"
   ]
  },
  {
   "cell_type": "code",
   "execution_count": 210,
   "id": "65e49971",
   "metadata": {},
   "outputs": [
    {
     "data": {
      "text/plain": [
       "AdaBoostClassifier(base_estimator=DecisionTreeClassifier(max_depth=5,\n",
       "                                                         min_samples_leaf=7,\n",
       "                                                         min_samples_split=10),\n",
       "                   learning_rate=0.001, n_estimators=100)"
      ]
     },
     "execution_count": 210,
     "metadata": {},
     "output_type": "execute_result"
    }
   ],
   "source": [
    "# running grid search with 6 variables\n",
    "Ada_grid_search2 = GridSearchCV(AdaBoostClassifier(base_estimator = DecisionTreeClassifier()), Ada_param_grid, cv = 3, scoring = 'f1', n_jobs = -1).fit(X_train2, Y_train2)\n",
    "\n",
    "# extracting best parameters\n",
    "Ada_best2 = Ada_grid_search2.best_estimator_\n",
    "Ada_best2"
   ]
  },
  {
   "cell_type": "code",
   "execution_count": 211,
   "id": "8b2c81a5",
   "metadata": {},
   "outputs": [],
   "source": [
    "# building ada boost model\n",
    "Ada_md2 = AdaBoostClassifier(base_estimator = DecisionTreeClassifier(min_samples_split = 10, min_samples_leaf = 7, max_depth = 5), n_estimators = 100, learning_rate = 0.001).fit(X_train2, Y_train2)\n",
    "\n",
    "# predicting on test\n",
    "Ada_test_pred2 = Ada_md2.predict_proba(X_test2)[:, 1]\n",
    "\n",
    "# identifying the optimal cutoff\n",
    "opt_cutoff2 = cost_function_cutoff(Y_test2, Ada_test_pred2)\n",
    "\n",
    "# changing to labels\n",
    "Ada_label2 = np.where(Ada_test_pred2 < opt_cutoff2, 0, 1)"
   ]
  },
  {
   "cell_type": "code",
   "execution_count": 230,
   "id": "38cb2a28",
   "metadata": {},
   "outputs": [
    {
     "name": "stdout",
     "output_type": "stream",
     "text": [
      "[[344  11]\n",
      " [  6  15]]\n",
      "The cost of the Ada model is: -130\n"
     ]
    }
   ],
   "source": [
    "# computing confusion matrix\n",
    "Ada_conf2 = confusion_matrix(Y_test2, Ada_label2)\n",
    "\n",
    "# computing and printing cost of random forest with 5 variables\n",
    "print(Ada_conf2)\n",
    "Ada_cost2 = -25*Ada_conf2[1, 0] - 5*Ada_conf2[0, 1] + 5*Ada_conf2[1, 1]\n",
    "print('The cost of the Ada model is:', Ada_cost2)"
   ]
  },
  {
   "cell_type": "code",
   "execution_count": 213,
   "id": "0ed44187",
   "metadata": {},
   "outputs": [
    {
     "data": {
      "text/plain": [
       "AdaBoostClassifier(base_estimator=DecisionTreeClassifier(max_depth=3,\n",
       "                                                         min_samples_leaf=5,\n",
       "                                                         min_samples_split=10),\n",
       "                   learning_rate=0.001, n_estimators=100)"
      ]
     },
     "execution_count": 213,
     "metadata": {},
     "output_type": "execute_result"
    }
   ],
   "source": [
    "# running grid search with 5 variables\n",
    "Ada_grid_search3 = GridSearchCV(AdaBoostClassifier(base_estimator = DecisionTreeClassifier()), Ada_param_grid, cv = 3, scoring = 'f1', n_jobs = -1).fit(X_train3, Y_train3)\n",
    "\n",
    "# extracting best parameters\n",
    "Ada_best3 = Ada_grid_search3.best_estimator_\n",
    "Ada_best3"
   ]
  },
  {
   "cell_type": "code",
   "execution_count": 218,
   "id": "98e619d5",
   "metadata": {},
   "outputs": [],
   "source": [
    "# building ada boost model\n",
    "Ada_md3 = AdaBoostClassifier(base_estimator = DecisionTreeClassifier(min_samples_split = 10, min_samples_leaf = 5, max_depth = 3), n_estimators = 100, learning_rate = 0.001).fit(X_train3, Y_train3)\n",
    "\n",
    "# predicting on test\n",
    "Ada_test_pred3 = Ada_md3.predict_proba(X_test3)[:, 1]\n",
    "\n",
    "# identifying the optimal cutoff\n",
    "opt_cutoff3 = cost_function_cutoff(Y_test3, Ada_test_pred3)\n",
    "\n",
    "# changing to labels\n",
    "Ada_label3 = np.where(Ada_test_pred3 < opt_cutoff3, 0, 1)"
   ]
  },
  {
   "cell_type": "code",
   "execution_count": 231,
   "id": "103ef1a8",
   "metadata": {},
   "outputs": [
    {
     "name": "stdout",
     "output_type": "stream",
     "text": [
      "[[355   0]\n",
      " [ 21   0]]\n",
      "The cost of the Ada model is: -525\n"
     ]
    }
   ],
   "source": [
    "# computing confusion matrix\n",
    "Ada_conf3 = confusion_matrix(Y_test3, Ada_label3)\n",
    "\n",
    "# computing and printing cost of random forest with 5 variables\n",
    "print(Ada_conf3)\n",
    "Ada_cost3 = -25*Ada_conf3[1, 0] - 5*Ada_conf3[0, 1] + 5*Ada_conf3[1, 1]\n",
    "print('The cost of the Ada model is:', Ada_cost3)"
   ]
  },
  {
   "cell_type": "markdown",
   "id": "d515d037",
   "metadata": {},
   "source": [
    "#### The best ada boost model is the one with 6 input variables"
   ]
  },
  {
   "cell_type": "code",
   "execution_count": null,
   "id": "d8b17f07",
   "metadata": {},
   "outputs": [],
   "source": []
  },
  {
   "cell_type": "markdown",
   "id": "4e1e246e",
   "metadata": {},
   "source": [
    "# Support Vector Machine"
   ]
  },
  {
   "cell_type": "code",
   "execution_count": null,
   "id": "2cf756e7",
   "metadata": {},
   "outputs": [],
   "source": [
    "# defining hyper parameters\n",
    "logit_param_grid = {'solver': ['newton-cg', 'lbfgs', 'liblinear', 'sag', 'saga'],\n",
    "                  'C':  [100, 10, 1.0, 0.1, 0.01],\n",
    "                  'penalty': ['none', 'l1', 'l2', 'elasticnet']}\n",
    "\n",
    "# performing grid search\n",
    "logit_grid_search = GridSearchCV(LogisticRegression(), logit_param_grid, cv = 3, scoring = 'f1',\n",
    "                                 n_jobs = -1).fit(X_train, Y_train)\n",
    "\n",
    "logit_best = logit_grid_search.best_estimator_\n",
    "logit_best"
   ]
  },
  {
   "cell_type": "code",
   "execution_count": 257,
   "id": "60556376",
   "metadata": {},
   "outputs": [],
   "source": [
    "# building the support vector machine with best hyper-parameters\n",
    "logit_md = LogisticRegression(solver = 'liblinear', C = 10, penalty = 'l1').fit(X_train, Y_train)\n",
    "\n",
    "# predicting on test\n",
    "logit_test_pred = logit_md.predict_proba(X_test)[:, 1]\n",
    "\n",
    "# identifying the optimal cutoff\n",
    "opt_cutoff = cost_function_cutoff(Y_test, logit_test_pred)\n",
    "\n",
    "# changing to labels\n",
    "logit_label = np.where(logit_test_pred < opt_cutoff, 0, 1)"
   ]
  },
  {
   "cell_type": "code",
   "execution_count": 258,
   "id": "ede1ff80",
   "metadata": {},
   "outputs": [
    {
     "name": "stdout",
     "output_type": "stream",
     "text": [
      "[[355   0]\n",
      " [ 21   0]]\n",
      "The cost of the Logistic Regression model is: -525\n"
     ]
    }
   ],
   "source": [
    "# computing confusion matrix\n",
    "logit_conf = confusion_matrix(Y_test, logit_label)\n",
    "\n",
    "# computing and printing cost of random forest with 5 variables\n",
    "print(logit_conf)\n",
    "logit_cost = -25*logit_conf[1, 0] - 5*logit_conf[0, 1] + 5*logit_conf[1, 1]\n",
    "print('The cost of the Logistic Regression model is:', logit_cost)"
   ]
  },
  {
   "cell_type": "code",
   "execution_count": null,
   "id": "1706f624",
   "metadata": {},
   "outputs": [],
   "source": [
    "# performing grid search\n",
    "logit_grid_search2 = GridSearchCV(LogisticRegression(), logit_param_grid, cv = 3, scoring = 'f1',\n",
    "                                 n_jobs = -1).fit(X_train2, Y_train2)\n",
    "\n",
    "logit_best2 = logit_grid_search2.best_estimator_\n",
    "logit_best2"
   ]
  },
  {
   "cell_type": "code",
   "execution_count": 260,
   "id": "5ce4e026",
   "metadata": {},
   "outputs": [],
   "source": [
    "# building the support vector machine with best hyper-parameters\n",
    "logit_md2 = LogisticRegression(solver = 'newton-cg', C = 100).fit(X_train2, Y_train2)\n",
    "\n",
    "# predicting on test\n",
    "logit_test_pred2 = logit_md2.predict_proba(X_test2)[:, 1]\n",
    "\n",
    "# identifying the optimal cutoff\n",
    "opt_cutoff2 = cost_function_cutoff(Y_test2, logit_test_pred2)\n",
    "\n",
    "# changing to labels\n",
    "logit_label2 = np.where(logit_test_pred2 < opt_cutoff2, 0, 1)"
   ]
  },
  {
   "cell_type": "code",
   "execution_count": 261,
   "id": "fbb8a292",
   "metadata": {},
   "outputs": [
    {
     "name": "stdout",
     "output_type": "stream",
     "text": [
      "[[354   1]\n",
      " [ 20   1]]\n",
      "The cost of the Logistic Regression model is: -500\n"
     ]
    }
   ],
   "source": [
    "# computing confusion matrix\n",
    "logit_conf2 = confusion_matrix(Y_test2, logit_label2)\n",
    "\n",
    "# computing and printing cost of random forest with 5 variables\n",
    "print(logit_conf2)\n",
    "logit_cost2 = -25*logit_conf2[1, 0] - 5*logit_conf2[0, 1] + 5*logit_conf2[1, 1]\n",
    "print('The cost of the Logistic Regression model is:', logit_cost2)"
   ]
  },
  {
   "cell_type": "code",
   "execution_count": null,
   "id": "32401d7c",
   "metadata": {},
   "outputs": [],
   "source": [
    "# performing grid search\n",
    "logit_grid_search3 = GridSearchCV(LogisticRegression(), logit_param_grid, cv = 3, scoring = 'f1',\n",
    "                                 n_jobs = -1).fit(X_train3, Y_train3)\n",
    "\n",
    "logit_best3 = logit_grid_search3.best_estimator_\n",
    "logit_best3"
   ]
  },
  {
   "cell_type": "code",
   "execution_count": 265,
   "id": "b8e1e280",
   "metadata": {},
   "outputs": [],
   "source": [
    "# building the support vector machine with best hyper-parameters\n",
    "logit_md3 = LogisticRegression(solver = 'newton-cg', C = 100).fit(X_train3, Y_train3)\n",
    "\n",
    "# predicting on test\n",
    "logit_test_pred3 = logit_md3.predict_proba(X_test3)[:, 1]\n",
    "\n",
    "# identifying the optimal cutoff\n",
    "opt_cutoff3 = cost_function_cutoff(Y_test3, logit_test_pred3)\n",
    "\n",
    "# changing to labels\n",
    "logit_label3 = np.where(logit_test_pred3 < opt_cutoff3, 0, 1)"
   ]
  },
  {
   "cell_type": "code",
   "execution_count": 266,
   "id": "3d69d63d",
   "metadata": {},
   "outputs": [
    {
     "name": "stdout",
     "output_type": "stream",
     "text": [
      "[[355   0]\n",
      " [ 21   0]]\n",
      "The cost of the Logistic Regression model is: -525\n"
     ]
    }
   ],
   "source": [
    "# computing confusion matrix\n",
    "logit_conf3 = confusion_matrix(Y_test3, logit_label3)\n",
    "\n",
    "# computing and printing cost of random forest with 5 variables\n",
    "print(logit_conf3)\n",
    "logit_cost3 = -25*logit_conf3[1, 0] - 5*logit_conf3[0, 1] + 5*logit_conf3[1, 1]\n",
    "print('The cost of the Logistic Regression model is:', logit_cost3)"
   ]
  },
  {
   "cell_type": "markdown",
   "id": "73d8d2c4",
   "metadata": {},
   "source": [
    "#### The best Logistic Regression is the one with 6 input variables"
   ]
  },
  {
   "cell_type": "code",
   "execution_count": null,
   "id": "1286417f",
   "metadata": {},
   "outputs": [],
   "source": []
  },
  {
   "cell_type": "markdown",
   "id": "dd99acb3",
   "metadata": {},
   "source": [
    "#### Now we can compare our best model from each and see which would be the best."
   ]
  },
  {
   "cell_type": "code",
   "execution_count": 268,
   "id": "2ec0de04",
   "metadata": {},
   "outputs": [
    {
     "name": "stdout",
     "output_type": "stream",
     "text": [
      "The cost of the best Random Forest model is: -230\n",
      "The cost of the best Ada Boost model is: -130\n",
      "The cost of the best Logistic Regression model is: -500\n"
     ]
    }
   ],
   "source": [
    "print('The cost of the best Random Forest model is:', RF_cost2)\n",
    "print('The cost of the best Ada Boost model is:', Ada_cost2)\n",
    "print('The cost of the best Logistic Regression model is:', logit_cost2)"
   ]
  },
  {
   "cell_type": "markdown",
   "id": "11d3eca6",
   "metadata": {},
   "source": [
    "#### Although all of our models are negative in profit, the Ada boost would be the best model to select. In the future, we can determine that we need better input variables (better feature engineering). "
   ]
  }
 ],
 "metadata": {
  "kernelspec": {
   "display_name": "conda_python3",
   "language": "python",
   "name": "conda_python3"
  },
  "language_info": {
   "codemirror_mode": {
    "name": "ipython",
    "version": 3
   },
   "file_extension": ".py",
   "mimetype": "text/x-python",
   "name": "python",
   "nbconvert_exporter": "python",
   "pygments_lexer": "ipython3",
   "version": "3.6.13"
  }
 },
 "nbformat": 4,
 "nbformat_minor": 5
}
